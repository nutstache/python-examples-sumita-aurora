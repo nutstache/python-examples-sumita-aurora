{
 "cells": [
  {
   "cell_type": "code",
   "execution_count": 9,
   "metadata": {},
   "outputs": [
    {
     "name": "stdout",
     "output_type": "stream",
     "text": [
      "Please enter 1 : 6\n",
      "Please enter 2 : 11\n",
      "Please enter 3 : 9\n",
      "Original numbers:  6 11 9\n",
      "After Swapping:  11 9 6\n"
     ]
    }
   ],
   "source": [
    "def acceptInt(dimension_name):\n",
    "    value = int(input(\"Please enter \"+dimension_name+\" : \"))\n",
    "    return value\n",
    "\n",
    "x = acceptInt(\"1\")\n",
    "y = acceptInt(\"2\")\n",
    "z = acceptInt(\"3\")\n",
    "\n",
    "\n",
    "\n",
    "\n",
    "print(\"Original numbers: \",x,y,z)\n",
    "\n",
    "x,y,z = y,z,x\n",
    "\n",
    "print(\"After Swapping: \",x,y,z)"
   ]
  },
  {
   "cell_type": "code",
   "execution_count": 6,
   "metadata": {},
   "outputs": [
    {
     "name": "stdout",
     "output_type": "stream",
     "text": [
      "Enter tonnes: 25\n",
      "The value of tonnes is  25.0\n",
      "Quintals :  250.0\n",
      "Kilogrmas :  25000.0\n",
      "Hello World this is me\n"
     ]
    }
   ],
   "source": [
    "\n",
    "tonnes = float(input(\"Enter tonnes: \"))\n",
    "quintals = tonnes*10\n",
    "kgs = quintals * 100\n",
    "\n",
    "\n",
    "\n",
    "print(\"The value of tonnes is \",tonnes)\n",
    "print(\"Quintals : \",quintals)\n",
    "print(\"Kilogrmas : \",kgs)\n",
    "\n",
    "\n",
    "\n",
    "\n",
    "\n",
    "print(\"Hello\",\"World\",\"this\",\"is\",\"me\")"
   ]
  }
 ],
 "metadata": {
  "kernelspec": {
   "display_name": "Python 3",
   "language": "python",
   "name": "python3"
  },
  "language_info": {
   "codemirror_mode": {
    "name": "ipython",
    "version": 3
   },
   "file_extension": ".py",
   "mimetype": "text/x-python",
   "name": "python",
   "nbconvert_exporter": "python",
   "pygments_lexer": "ipython3",
   "version": "3.8.3"
  }
 },
 "nbformat": 4,
 "nbformat_minor": 4
}
